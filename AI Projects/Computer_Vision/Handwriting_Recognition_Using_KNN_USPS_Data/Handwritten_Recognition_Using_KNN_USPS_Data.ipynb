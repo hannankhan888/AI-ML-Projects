{
 "cells": [
  {
   "cell_type": "markdown",
   "metadata": {},
   "source": [
    "# HW 1 - KNN Classification Using The USPS Dataset\n",
    "\n",
    "## Load the USPS Dataset"
   ]
  },
  {
   "cell_type": "code",
   "execution_count": 1,
   "metadata": {
    "ExecuteTime": {
     "end_time": "2021-09-19T22:41:31.883419Z",
     "start_time": "2021-09-19T22:41:30.745942Z"
    }
   },
   "outputs": [],
   "source": [
    "import numpy as np\n",
    "import pandas as pd\n",
    "import matplotlib.pyplot as plt\n",
    "import sklearn\n",
    "import h5py"
   ]
  },
  {
   "cell_type": "code",
   "execution_count": 2,
   "metadata": {
    "ExecuteTime": {
     "end_time": "2021-09-19T22:41:31.930294Z",
     "start_time": "2021-09-19T22:41:31.884416Z"
    }
   },
   "outputs": [],
   "source": [
    "path = \"usps.h5\"\n",
    "with h5py.File(path, 'r') as hf:\n",
    "        train = hf.get('train')\n",
    "        x_train = train.get('data')[:]\n",
    "        y_train = train.get('target')[:]\n",
    "        test = hf.get('test')\n",
    "        x_test = test.get('data')[:]\n",
    "        y_test = test.get('target')[:]"
   ]
  },
  {
   "cell_type": "code",
   "execution_count": 3,
   "metadata": {
    "ExecuteTime": {
     "end_time": "2021-09-19T22:41:31.945254Z",
     "start_time": "2021-09-19T22:41:31.931291Z"
    }
   },
   "outputs": [
    {
     "name": "stdout",
     "output_type": "stream",
     "text": [
      "x_train.shape==(7291, 256)\n",
      "y_train.shape==(7291,)\n",
      "x_test.shape==(2007, 256)\n",
      "y_test.shape==(2007,)\n"
     ]
    }
   ],
   "source": [
    "print(f\"x_train.shape=={x_train.shape}\")\n",
    "print(f\"y_train.shape=={y_train.shape}\")\n",
    "print(f\"x_test.shape=={x_test.shape}\")\n",
    "print(f\"y_test.shape=={y_test.shape}\")"
   ]
  },
  {
   "cell_type": "markdown",
   "metadata": {},
   "source": [
    "## We see an example image/label from the x_train subset:"
   ]
  },
  {
   "cell_type": "code",
   "execution_count": 4,
   "metadata": {
    "ExecuteTime": {
     "end_time": "2021-09-19T22:41:31.961211Z",
     "start_time": "2021-09-19T22:41:31.946252Z"
    }
   },
   "outputs": [],
   "source": [
    "some_image = x_train[1]\n",
    "some_digit_image = some_image.reshape(16, 16)"
   ]
  },
  {
   "cell_type": "code",
   "execution_count": 5,
   "metadata": {
    "ExecuteTime": {
     "end_time": "2021-09-19T22:41:32.070918Z",
     "start_time": "2021-09-19T22:41:32.013073Z"
    }
   },
   "outputs": [
    {
     "data": {
      "image/png": "[encoded data removed]",
      "text/plain": [
       "<Figure size 432x288 with 1 Axes>"
      ]
     },
     "metadata": {
      "needs_background": "light"
     },
     "output_type": "display_data"
    }
   ],
   "source": [
    "plt.imshow(some_digit_image, cmap='binary')\n",
    "plt.axis('off')\n",
    "plt.show()"
   ]
  },
  {
   "cell_type": "code",
   "execution_count": 6,
   "metadata": {
    "ExecuteTime": {
     "end_time": "2021-09-19T22:41:34.421182Z",
     "start_time": "2021-09-19T22:41:34.411209Z"
    }
   },
   "outputs": [
    {
     "data": {
      "text/plain": [
       "5"
      ]
     },
     "execution_count": 6,
     "metadata": {},
     "output_type": "execute_result"
    }
   ],
   "source": [
    "y_train[1]"
   ]
  },
  {
   "cell_type": "markdown",
   "metadata": {},
   "source": [
    "Below, we make sure that the datatype for y_train is int."
   ]
  },
  {
   "cell_type": "code",
   "execution_count": 7,
   "metadata": {
    "ExecuteTime": {
     "end_time": "2021-09-19T22:41:35.425016Z",
     "start_time": "2021-09-19T22:41:35.416040Z"
    }
   },
   "outputs": [
    {
     "data": {
      "text/plain": [
       "dtype('int32')"
      ]
     },
     "execution_count": 7,
     "metadata": {},
     "output_type": "execute_result"
    }
   ],
   "source": [
    "y_train.dtype"
   ]
  },
  {
   "cell_type": "markdown",
   "metadata": {},
   "source": [
    "# Using KNN For Classification"
   ]
  },
  {
   "cell_type": "code",
   "execution_count": 21,
   "metadata": {
    "ExecuteTime": {
     "end_time": "2021-09-19T22:45:26.138660Z",
     "start_time": "2021-09-19T22:45:26.123700Z"
    }
   },
   "outputs": [],
   "source": [
    "from sklearn.neighbors import KNeighborsClassifier\n",
    "from sklearn.model_selection import GridSearchCV"
   ]
  },
  {
   "cell_type": "code",
   "execution_count": 22,
   "metadata": {
    "ExecuteTime": {
     "end_time": "2021-09-19T22:45:26.987401Z",
     "start_time": "2021-09-19T22:45:26.979423Z"
    }
   },
   "outputs": [],
   "source": [
    "knn = KNeighborsClassifier(n_jobs=-1)"
   ]
  },
  {
   "cell_type": "code",
   "execution_count": 23,
   "metadata": {
    "ExecuteTime": {
     "end_time": "2021-09-19T22:45:28.492389Z",
     "start_time": "2021-09-19T22:45:28.476431Z"
    }
   },
   "outputs": [],
   "source": [
    "grid = {\n",
    "    'weights': ['uniform', 'distance'],\n",
    "    'n_neighbors': [1, 2, 3, 4, 5, 6, 7, 8, 9, 10],\n",
    "    'leaf_size': (20,40,1),\n",
    "    'p': (1,2),\n",
    "    'metric': ('minkowski', 'chebyshev')\n",
    "}"
   ]
  },
  {
   "cell_type": "code",
   "execution_count": 24,
   "metadata": {
    "ExecuteTime": {
     "end_time": "2021-09-19T22:45:33.224834Z",
     "start_time": "2021-09-19T22:45:33.219847Z"
    }
   },
   "outputs": [],
   "source": [
    "grid_search_clf = GridSearchCV(estimator=knn, param_grid=grid, scoring='accuracy', cv=5, verbose=3, n_jobs=-1)"
   ]
  },
  {
   "cell_type": "code",
   "execution_count": 25,
   "metadata": {
    "ExecuteTime": {
     "end_time": "2021-09-19T22:49:02.093382Z",
     "start_time": "2021-09-19T22:45:34.460047Z"
    }
   },
   "outputs": [
    {
     "name": "stdout",
     "output_type": "stream",
     "text": [
      "Fitting 5 folds for each of 240 candidates, totalling 1200 fits\n"
     ]
    },
    {
     "data": {
      "text/plain": [
       "GridSearchCV(cv=5, estimator=KNeighborsClassifier(n_jobs=-1), n_jobs=-1,\n",
       "             param_grid={'leaf_size': (20, 40, 1),\n",
       "                         'metric': ('minkowski', 'chebyshev'),\n",
       "                         'n_neighbors': [1, 2, 3, 4, 5, 6, 7, 8, 9, 10],\n",
       "                         'p': (1, 2), 'weights': ['uniform', 'distance']},\n",
       "             scoring='accuracy', verbose=3)"
      ]
     },
     "execution_count": 25,
     "metadata": {},
     "output_type": "execute_result"
    }
   ],
   "source": [
    "grid_search_clf.fit(X=x_train, y=y_train)"
   ]
  },
  {
   "cell_type": "code",
   "execution_count": 26,
   "metadata": {
    "ExecuteTime": {
     "end_time": "2021-09-19T22:49:02.109340Z",
     "start_time": "2021-09-19T22:49:02.095378Z"
    }
   },
   "outputs": [
    {
     "data": {
      "text/plain": [
       "0.966397207249643"
      ]
     },
     "execution_count": 26,
     "metadata": {},
     "output_type": "execute_result"
    }
   ],
   "source": [
    "grid_search_clf.best_score_"
   ]
  },
  {
   "cell_type": "code",
   "execution_count": 27,
   "metadata": {
    "ExecuteTime": {
     "end_time": "2021-09-19T22:49:02.125297Z",
     "start_time": "2021-09-19T22:49:02.112332Z"
    }
   },
   "outputs": [
    {
     "data": {
      "text/plain": [
       "{'leaf_size': 20,\n",
       " 'metric': 'minkowski',\n",
       " 'n_neighbors': 1,\n",
       " 'p': 2,\n",
       " 'weights': 'uniform'}"
      ]
     },
     "execution_count": 27,
     "metadata": {},
     "output_type": "execute_result"
    }
   ],
   "source": [
    "grid_search_clf.best_params_"
   ]
  },
  {
   "cell_type": "markdown",
   "metadata": {},
   "source": [
    "## Now lets create the the KNN model based on our GridSearch"
   ]
  },
  {
   "cell_type": "code",
   "execution_count": 28,
   "metadata": {
    "ExecuteTime": {
     "end_time": "2021-09-19T22:49:47.799343Z",
     "start_time": "2021-09-19T22:49:47.790367Z"
    }
   },
   "outputs": [],
   "source": [
    "final_knn = KNeighborsClassifier(n_neighbors=1, weights= 'uniform', n_jobs=-1, leaf_size=20, metric='minkowski', p=2)"
   ]
  },
  {
   "cell_type": "code",
   "execution_count": 29,
   "metadata": {
    "ExecuteTime": {
     "end_time": "2021-09-19T22:49:49.753130Z",
     "start_time": "2021-09-19T22:49:49.733184Z"
    }
   },
   "outputs": [
    {
     "data": {
      "text/plain": [
       "KNeighborsClassifier(leaf_size=20, n_jobs=-1, n_neighbors=1)"
      ]
     },
     "execution_count": 29,
     "metadata": {},
     "output_type": "execute_result"
    }
   ],
   "source": [
    "final_knn.fit(x_train, y_train)"
   ]
  },
  {
   "cell_type": "code",
   "execution_count": 30,
   "metadata": {
    "ExecuteTime": {
     "end_time": "2021-09-19T22:49:57.377833Z",
     "start_time": "2021-09-19T22:49:57.063674Z"
    }
   },
   "outputs": [
    {
     "data": {
      "text/plain": [
       "0.9436970602889886"
      ]
     },
     "execution_count": 30,
     "metadata": {},
     "output_type": "execute_result"
    }
   ],
   "source": [
    "final_knn.score(x_test, y_test)"
   ]
  },
  {
   "cell_type": "markdown",
   "metadata": {},
   "source": [
    "## We have acheived an accuracy of 94.37% using KNN.\n",
    "The parameters are:\n",
    "\n",
    "`{'leaf_size': 20,\n",
    " 'metric': 'minkowski',\n",
    " 'n_neighbors': 1,\n",
    " 'p': 2,\n",
    " 'weights': 'uniform'}`"
   ]
  }
 ],
 "metadata": {
  "kernelspec": {
   "display_name": "Python 3 (ipykernel)",
   "language": "python",
   "name": "python3"
  },
  "language_info": {
   "codemirror_mode": {
    "name": "ipython",
    "version": 3
   },
   "file_extension": ".py",
   "mimetype": "text/x-python",
   "name": "python",
   "nbconvert_exporter": "python",
   "pygments_lexer": "ipython3",
   "version": "3.9.7"
  },
  "toc": {
   "base_numbering": 1,
   "nav_menu": {},
   "number_sections": true,
   "sideBar": true,
   "skip_h1_title": false,
   "title_cell": "Table of Contents",
   "title_sidebar": "Contents",
   "toc_cell": false,
   "toc_position": {},
   "toc_section_display": true,
   "toc_window_display": false
  }
 },
 "nbformat": 4,
 "nbformat_minor": 4
}
